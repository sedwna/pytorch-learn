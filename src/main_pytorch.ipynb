{
  "nbformat": 4,
  "nbformat_minor": 0,
  "metadata": {
    "colab": {
      "provenance": [],
      "authorship_tag": "ABX9TyOICVD2BHk9GYO38wXLQfyT",
      "include_colab_link": true
    },
    "kernelspec": {
      "name": "python3",
      "display_name": "Python 3"
    },
    "language_info": {
      "name": "python"
    }
  },
  "cells": [
    {
      "cell_type": "markdown",
      "metadata": {
        "id": "view-in-github",
        "colab_type": "text"
      },
      "source": [
        "<a href=\"https://colab.research.google.com/github/sedwna/pytorch-learn/blob/main/src/main_pytorch.ipynb\" target=\"_parent\"><img src=\"https://colab.research.google.com/assets/colab-badge.svg\" alt=\"Open In Colab\"/></a>"
      ]
    },
    {
      "cell_type": "code",
      "execution_count": 57,
      "metadata": {
        "id": "UWLwfuRIrifz"
      },
      "outputs": [],
      "source": [
        "import numpy as np\n",
        "import matplotlib.pyplot as plt\n",
        "import torch"
      ]
    },
    {
      "cell_type": "code",
      "source": [
        "torch.__version__"
      ],
      "metadata": {
        "colab": {
          "base_uri": "https://localhost:8080/",
          "height": 36
        },
        "id": "moZqD7ppsg3y",
        "outputId": "aeb73824-2b30-40ed-82a5-6476c233029f"
      },
      "execution_count": null,
      "outputs": [
        {
          "output_type": "execute_result",
          "data": {
            "text/plain": [
              "'2.5.1+cu124'"
            ],
            "application/vnd.google.colaboratory.intrinsic+json": {
              "type": "string"
            }
          },
          "metadata": {},
          "execution_count": 10
        }
      ]
    },
    {
      "cell_type": "code",
      "source": [
        "# create a Scalar\n",
        "torch.tensor(4) # tensor with 0D"
      ],
      "metadata": {
        "colab": {
          "base_uri": "https://localhost:8080/"
        },
        "id": "iVC-timgsxYy",
        "outputId": "f5de7148-8054-41e8-fc6e-8994403b8049"
      },
      "execution_count": null,
      "outputs": [
        {
          "output_type": "execute_result",
          "data": {
            "text/plain": [
              "tensor(4)"
            ]
          },
          "metadata": {},
          "execution_count": 11
        }
      ]
    },
    {
      "cell_type": "code",
      "source": [
        "#create a vector\n",
        "torch.tensor([1,2,3,4]) # tensor with 1D"
      ],
      "metadata": {
        "colab": {
          "base_uri": "https://localhost:8080/"
        },
        "id": "HJiRrwczs1rG",
        "outputId": "5086eeb8-1ac1-4285-a9f0-ff04545989fe"
      },
      "execution_count": null,
      "outputs": [
        {
          "output_type": "execute_result",
          "data": {
            "text/plain": [
              "tensor([1, 2, 3, 4])"
            ]
          },
          "metadata": {},
          "execution_count": 12
        }
      ]
    },
    {
      "cell_type": "code",
      "source": [
        "# create a matrix\n",
        "torch.tensor([[1,2,3], # tensor with 2D\n",
        "              [4,5,6],\n",
        "              [7,8,9]])"
      ],
      "metadata": {
        "colab": {
          "base_uri": "https://localhost:8080/"
        },
        "id": "xdAUDvT_uwz2",
        "outputId": "ba9bc42c-e4e7-44be-cabe-dec1a1d961d5"
      },
      "execution_count": null,
      "outputs": [
        {
          "output_type": "execute_result",
          "data": {
            "text/plain": [
              "tensor([[1, 2, 3],\n",
              "        [4, 5, 6],\n",
              "        [7, 8, 9]])"
            ]
          },
          "metadata": {},
          "execution_count": 13
        }
      ]
    },
    {
      "cell_type": "code",
      "source": [
        "# create a column vector\n",
        "torch.tensor([[1], # tensor with 2D\n",
        "              [2],\n",
        "              [3]])"
      ],
      "metadata": {
        "colab": {
          "base_uri": "https://localhost:8080/"
        },
        "id": "fAls14U3vUQJ",
        "outputId": "af8e8184-6ea6-4627-9884-0c5f3067577f"
      },
      "execution_count": null,
      "outputs": [
        {
          "output_type": "execute_result",
          "data": {
            "text/plain": [
              "tensor([[1],\n",
              "        [2],\n",
              "        [3]])"
            ]
          },
          "metadata": {},
          "execution_count": 14
        }
      ]
    },
    {
      "cell_type": "code",
      "source": [
        "# create a N-D tensor\n",
        "torch.tensor([[[1,2],[3,4]],[[5,6],[7,8]],[[9,10],[11,12]]])"
      ],
      "metadata": {
        "colab": {
          "base_uri": "https://localhost:8080/"
        },
        "id": "UogQgUDgvmW-",
        "outputId": "880bbeb5-5b04-4a13-8372-03100e0f9011"
      },
      "execution_count": null,
      "outputs": [
        {
          "output_type": "execute_result",
          "data": {
            "text/plain": [
              "tensor([[[ 1,  2],\n",
              "         [ 3,  4]],\n",
              "\n",
              "        [[ 5,  6],\n",
              "         [ 7,  8]],\n",
              "\n",
              "        [[ 9, 10],\n",
              "         [11, 12]]])"
            ]
          },
          "metadata": {},
          "execution_count": 15
        }
      ]
    },
    {
      "cell_type": "code",
      "source": [
        "# dtype\n",
        "a = torch.tensor([1,2,3,4],dtype=torch.uint8) #uint8 = 8bit integer(unsigned) 0 - 255\n",
        "# defult torc.uint64 or torch.float32"
      ],
      "metadata": {
        "id": "9DJOubp4yU8-"
      },
      "execution_count": null,
      "outputs": []
    },
    {
      "cell_type": "code",
      "source": [
        "# convert type\n",
        "a = a.type(torch.float16) #or a = a.float()\n",
        "a\n"
      ],
      "metadata": {
        "colab": {
          "base_uri": "https://localhost:8080/"
        },
        "id": "FIGWIwA9zexj",
        "outputId": "5a836853-899a-4973-bc58-841a3b4ed79c"
      },
      "execution_count": null,
      "outputs": [
        {
          "output_type": "execute_result",
          "data": {
            "text/plain": [
              "tensor([1., 2., 3., 4.], dtype=torch.float16)"
            ]
          },
          "metadata": {},
          "execution_count": 17
        }
      ]
    },
    {
      "cell_type": "code",
      "source": [
        "# device\n",
        "# how a tensor Run in GPU or CPU\n",
        "\n",
        "a = torch.tensor([1,2,3,4],dtype=torch.uint8,device='cpu')\n",
        "print(a.device) # a method for check a tensor run in wich mode(gpu or cpu)\n",
        "\n",
        "# a = torch.tensor([1,2,3,4],dtype=torch.uint8,device='cuda')\n",
        "print(a.device)\n",
        "\n",
        "a = a.cpu() #or a = a.gpu() #switch from gpu to cpu or reverse\n"
      ],
      "metadata": {
        "colab": {
          "base_uri": "https://localhost:8080/"
        },
        "id": "Zb57MWEA0Ip4",
        "outputId": "70c9fff4-3cb9-4f97-811c-54a29f903b9a"
      },
      "execution_count": null,
      "outputs": [
        {
          "output_type": "stream",
          "name": "stdout",
          "text": [
            "cpu\n",
            "cpu\n"
          ]
        }
      ]
    },
    {
      "cell_type": "code",
      "source": [
        "scalar = torch.tensor(1)\n",
        "\n",
        "vector = torch.tensor([1,2,3,4])\n",
        "\n",
        "matrix = torch.tensor([[1,2],\n",
        "                       [1,2],\n",
        "                       [1,3]])\n",
        "\n",
        "tensor = torch.tensor([[[1,2,3],\n",
        "                        [1,2,3]],\n",
        "                                [[1,2,3],\n",
        "                                 [1,0,3]],\n",
        "                                        [[1,2,3],\n",
        "                                         [1,2,7]]])"
      ],
      "metadata": {
        "id": "5QujHXA8Di7G"
      },
      "execution_count": null,
      "outputs": []
    },
    {
      "cell_type": "code",
      "source": [
        "scalar.shape, vector.shape, matrix.shape, tensor.shape"
      ],
      "metadata": {
        "colab": {
          "base_uri": "https://localhost:8080/"
        },
        "id": "VW8pE-bi3bFL",
        "outputId": "aed9d5e1-b14a-4e2b-d2bb-aaf9f97ba0be"
      },
      "execution_count": null,
      "outputs": [
        {
          "output_type": "execute_result",
          "data": {
            "text/plain": [
              "(torch.Size([]), torch.Size([4]), torch.Size([3, 2]), torch.Size([3, 2, 3]))"
            ]
          },
          "metadata": {},
          "execution_count": 20
        }
      ]
    },
    {
      "cell_type": "code",
      "source": [
        "c, r, cc = tensor.shape\n",
        "c, r, cc"
      ],
      "metadata": {
        "colab": {
          "base_uri": "https://localhost:8080/"
        },
        "id": "RDxAvvMnE6ey",
        "outputId": "97cbaf31-7d2e-49c5-dd15-47c967e9f6e9"
      },
      "execution_count": null,
      "outputs": [
        {
          "output_type": "execute_result",
          "data": {
            "text/plain": [
              "(3, 2, 3)"
            ]
          },
          "metadata": {},
          "execution_count": 21
        }
      ]
    },
    {
      "cell_type": "code",
      "source": [
        "tensor.size() , tensor.size(0)"
      ],
      "metadata": {
        "colab": {
          "base_uri": "https://localhost:8080/"
        },
        "id": "peMzePaGFrhs",
        "outputId": "86e8bc6a-8954-433d-c626-ae9286efe2f6"
      },
      "execution_count": null,
      "outputs": [
        {
          "output_type": "execute_result",
          "data": {
            "text/plain": [
              "(torch.Size([3, 2, 3]), 3)"
            ]
          },
          "metadata": {},
          "execution_count": 22
        }
      ]
    },
    {
      "cell_type": "code",
      "source": [
        "tensor.min(), tensor.max()"
      ],
      "metadata": {
        "colab": {
          "base_uri": "https://localhost:8080/"
        },
        "id": "ZHiHewAVF3bT",
        "outputId": "bfe1318d-d4f9-4996-c5f7-39e13cf6975e"
      },
      "execution_count": null,
      "outputs": [
        {
          "output_type": "execute_result",
          "data": {
            "text/plain": [
              "(tensor(0), tensor(7))"
            ]
          },
          "metadata": {},
          "execution_count": 23
        }
      ]
    },
    {
      "cell_type": "code",
      "source": [
        "# we cant get a mean for int64\n",
        "tensor.float().mean() ,tensor.float().std()"
      ],
      "metadata": {
        "colab": {
          "base_uri": "https://localhost:8080/"
        },
        "id": "lGvT55mDGEc0",
        "outputId": "5c0e4659-4732-4a73-8a72-c6ec74081790"
      },
      "execution_count": null,
      "outputs": [
        {
          "output_type": "execute_result",
          "data": {
            "text/plain": [
              "(tensor(2.1111), tensor(1.5297))"
            ]
          },
          "metadata": {},
          "execution_count": 24
        }
      ]
    },
    {
      "cell_type": "code",
      "source": [
        "# transpose = rotate 90 degree right\n",
        "matrix.t()"
      ],
      "metadata": {
        "colab": {
          "base_uri": "https://localhost:8080/"
        },
        "id": "Gfk0TEzmHAMk",
        "outputId": "0f5e7129-f452-45ed-b6f9-ab32a3e9be06"
      },
      "execution_count": null,
      "outputs": [
        {
          "output_type": "execute_result",
          "data": {
            "text/plain": [
              "tensor([[1, 1, 1],\n",
              "        [2, 2, 3]])"
            ]
          },
          "metadata": {},
          "execution_count": 25
        }
      ]
    },
    {
      "cell_type": "code",
      "source": [
        "# Difference with _ and empty\n",
        "scalar = torch.tensor(-1)\n",
        "\n",
        "print(scalar.abs())\n",
        "print(scalar)\n",
        "\n",
        "print(scalar.abs_()) # _ means method with overwrite\n",
        "print(scalar)"
      ],
      "metadata": {
        "colab": {
          "base_uri": "https://localhost:8080/"
        },
        "id": "aWbwZdETHu2C",
        "outputId": "e40209c3-45a1-42af-89f7-c41cea21cd38"
      },
      "execution_count": null,
      "outputs": [
        {
          "output_type": "stream",
          "name": "stdout",
          "text": [
            "tensor(1)\n",
            "tensor(-1)\n",
            "tensor(1)\n",
            "tensor(1)\n"
          ]
        }
      ]
    },
    {
      "cell_type": "code",
      "source": [
        "# create a tensor with 1\n",
        "torch.ones((3,4,3))"
      ],
      "metadata": {
        "colab": {
          "base_uri": "https://localhost:8080/"
        },
        "id": "CeBCVJUiOPKs",
        "outputId": "a963fb68-aa90-44a7-fdef-3ca196e9f66f"
      },
      "execution_count": null,
      "outputs": [
        {
          "output_type": "execute_result",
          "data": {
            "text/plain": [
              "tensor([[[1., 1., 1.],\n",
              "         [1., 1., 1.],\n",
              "         [1., 1., 1.],\n",
              "         [1., 1., 1.]],\n",
              "\n",
              "        [[1., 1., 1.],\n",
              "         [1., 1., 1.],\n",
              "         [1., 1., 1.],\n",
              "         [1., 1., 1.]],\n",
              "\n",
              "        [[1., 1., 1.],\n",
              "         [1., 1., 1.],\n",
              "         [1., 1., 1.],\n",
              "         [1., 1., 1.]]])"
            ]
          },
          "metadata": {},
          "execution_count": 27
        }
      ]
    },
    {
      "cell_type": "code",
      "source": [
        "# create a tensor with 0\n",
        "torch.zeros((3,4,3))"
      ],
      "metadata": {
        "colab": {
          "base_uri": "https://localhost:8080/"
        },
        "id": "pAcur3_qO8f0",
        "outputId": "60c7cf61-14a3-4887-bd0e-c5366cd30b69"
      },
      "execution_count": null,
      "outputs": [
        {
          "output_type": "execute_result",
          "data": {
            "text/plain": [
              "tensor([[[0., 0., 0.],\n",
              "         [0., 0., 0.],\n",
              "         [0., 0., 0.],\n",
              "         [0., 0., 0.]],\n",
              "\n",
              "        [[0., 0., 0.],\n",
              "         [0., 0., 0.],\n",
              "         [0., 0., 0.],\n",
              "         [0., 0., 0.]],\n",
              "\n",
              "        [[0., 0., 0.],\n",
              "         [0., 0., 0.],\n",
              "         [0., 0., 0.],\n",
              "         [0., 0., 0.]]])"
            ]
          },
          "metadata": {},
          "execution_count": 28
        }
      ]
    },
    {
      "cell_type": "code",
      "source": [
        "# create a identity matrix\n",
        "torch.eye(5,5)"
      ],
      "metadata": {
        "colab": {
          "base_uri": "https://localhost:8080/"
        },
        "id": "lM35vYo6PxWj",
        "outputId": "cd7aaf3d-a197-4a1b-9cfb-c15cee9f7937"
      },
      "execution_count": null,
      "outputs": [
        {
          "output_type": "execute_result",
          "data": {
            "text/plain": [
              "tensor([[1., 0., 0., 0., 0.],\n",
              "        [0., 1., 0., 0., 0.],\n",
              "        [0., 0., 1., 0., 0.],\n",
              "        [0., 0., 0., 1., 0.],\n",
              "        [0., 0., 0., 0., 1.]])"
            ]
          },
          "metadata": {},
          "execution_count": 29
        }
      ]
    },
    {
      "cell_type": "code",
      "source": [
        "# create a empty matrix\n",
        "mx = torch.empty((4,5))"
      ],
      "metadata": {
        "id": "9Sy5LjjFQNxT"
      },
      "execution_count": null,
      "outputs": []
    },
    {
      "cell_type": "code",
      "source": [
        "mx.fill_(1.3)"
      ],
      "metadata": {
        "colab": {
          "base_uri": "https://localhost:8080/"
        },
        "id": "PK667N8-QcKr",
        "outputId": "4cde5b2c-014b-4cbb-a0ed-bcd94a44c51f"
      },
      "execution_count": null,
      "outputs": [
        {
          "output_type": "execute_result",
          "data": {
            "text/plain": [
              "tensor([[1.3000, 1.3000, 1.3000, 1.3000, 1.3000],\n",
              "        [1.3000, 1.3000, 1.3000, 1.3000, 1.3000],\n",
              "        [1.3000, 1.3000, 1.3000, 1.3000, 1.3000],\n",
              "        [1.3000, 1.3000, 1.3000, 1.3000, 1.3000]])"
            ]
          },
          "metadata": {},
          "execution_count": 31
        }
      ]
    },
    {
      "cell_type": "code",
      "source": [
        "# create a matrix with manually size and fill with a own number\n",
        "torch.full((4,3),fill_value=4)"
      ],
      "metadata": {
        "colab": {
          "base_uri": "https://localhost:8080/"
        },
        "id": "2m8b3Aq0Q_qy",
        "outputId": "a1937f45-0e2d-45d4-e55c-afb3330797aa"
      },
      "execution_count": null,
      "outputs": [
        {
          "output_type": "execute_result",
          "data": {
            "text/plain": [
              "tensor([[4, 4, 4],\n",
              "        [4, 4, 4],\n",
              "        [4, 4, 4],\n",
              "        [4, 4, 4]])"
            ]
          },
          "metadata": {},
          "execution_count": 32
        }
      ]
    },
    {
      "cell_type": "code",
      "source": [
        "# creaye a random array\n",
        "torch.rand((2,3)) #equal chance"
      ],
      "metadata": {
        "id": "ZsEqSpYgRj4q",
        "colab": {
          "base_uri": "https://localhost:8080/"
        },
        "outputId": "e4966492-3cb8-4876-e873-852b8804b4fc"
      },
      "execution_count": null,
      "outputs": [
        {
          "output_type": "execute_result",
          "data": {
            "text/plain": [
              "tensor([[0.6300, 0.5885, 0.8872],\n",
              "        [0.5010, 0.2793, 0.9539]])"
            ]
          },
          "metadata": {},
          "execution_count": 33
        }
      ]
    },
    {
      "cell_type": "code",
      "source": [
        "rand_uniform = torch.rand(10000)\n",
        "plt.hist(rand_uniform)"
      ],
      "metadata": {
        "colab": {
          "base_uri": "https://localhost:8080/",
          "height": 539
        },
        "id": "gdRzyRiCUWJ-",
        "outputId": "af9bbaec-c174-4954-874d-749f8f91de56"
      },
      "execution_count": null,
      "outputs": [
        {
          "output_type": "execute_result",
          "data": {
            "text/plain": [
              "(array([ 955.,  945., 1025., 1022., 1034.,  960., 1012., 1014., 1007.,\n",
              "        1026.]),\n",
              " array([2.86102295e-06, 1.00001208e-01, 1.99999556e-01, 2.99997896e-01,\n",
              "        3.99996251e-01, 4.99994606e-01, 5.99992931e-01, 6.99991286e-01,\n",
              "        7.99989641e-01, 8.99987996e-01, 9.99986351e-01]),\n",
              " <BarContainer object of 10 artists>)"
            ]
          },
          "metadata": {},
          "execution_count": 34
        },
        {
          "output_type": "display_data",
          "data": {
            "text/plain": [
              "<Figure size 640x480 with 1 Axes>"
            ],
            "image/png": "[encoded data removed]"
          },
          "metadata": {}
        }
      ]
    },
    {
      "cell_type": "code",
      "source": [
        " 4 * torch.rand((2,3)) - 2 #convert to range (-2, +2)"
      ],
      "metadata": {
        "colab": {
          "base_uri": "https://localhost:8080/"
        },
        "id": "R8457VGZU7JO",
        "outputId": "3cc34878-5de3-4201-afd6-0e95b1cebc4a"
      },
      "execution_count": null,
      "outputs": [
        {
          "output_type": "execute_result",
          "data": {
            "text/plain": [
              "tensor([[ 0.1972,  0.3460, -1.3011],\n",
              "        [ 0.9947,  0.8177,  1.5219]])"
            ]
          },
          "metadata": {},
          "execution_count": 35
        }
      ]
    },
    {
      "cell_type": "code",
      "source": [
        "# n means random numbers from a normal distribution with mean 0 and variance 1\n",
        "torch.randn((3,3,2))"
      ],
      "metadata": {
        "colab": {
          "base_uri": "https://localhost:8080/"
        },
        "id": "2BiHjjbvVOIu",
        "outputId": "7f9d0ec1-2118-49d5-a0fe-f49ed09d91d0"
      },
      "execution_count": null,
      "outputs": [
        {
          "output_type": "execute_result",
          "data": {
            "text/plain": [
              "tensor([[[ 1.0072, -1.2884],\n",
              "         [ 1.2096,  0.7602],\n",
              "         [-2.0612,  0.4121]],\n",
              "\n",
              "        [[-1.0822, -0.7649],\n",
              "         [-0.8545, -0.4396],\n",
              "         [-1.5420,  0.5165]],\n",
              "\n",
              "        [[-0.9629, -0.2523],\n",
              "         [-0.8822,  1.0957],\n",
              "         [ 0.5623,  0.2269]]])"
            ]
          },
          "metadata": {},
          "execution_count": 36
        }
      ]
    },
    {
      "cell_type": "code",
      "source": [
        "rand_gauss = torch.randn(10000)\n",
        "plt.hist(rand_gauss,100);"
      ],
      "metadata": {
        "colab": {
          "base_uri": "https://localhost:8080/",
          "height": 430
        },
        "id": "kNbnA76EV-8V",
        "outputId": "9ca07414-e34c-4e9d-da8d-2725871df83b"
      },
      "execution_count": null,
      "outputs": [
        {
          "output_type": "display_data",
          "data": {
            "text/plain": [
              "<Figure size 640x480 with 1 Axes>"
            ],
            "image/png": "[encoded data removed]"
          },
          "metadata": {}
        }
      ]
    },
    {
      "cell_type": "code",
      "source": [
        "# create a random from integer\n",
        "torch.randint(100,700,(7,7))"
      ],
      "metadata": {
        "colab": {
          "base_uri": "https://localhost:8080/"
        },
        "id": "J0gx6D7jacqT",
        "outputId": "93223796-a61b-44eb-db47-1992121fbfe7"
      },
      "execution_count": null,
      "outputs": [
        {
          "output_type": "execute_result",
          "data": {
            "text/plain": [
              "tensor([[435, 457, 558, 580, 179, 222, 119],\n",
              "        [539, 256, 302, 428, 314, 566, 129],\n",
              "        [640, 159, 255, 358, 249, 514, 390],\n",
              "        [548, 226, 215, 671, 412, 613, 278],\n",
              "        [326, 643, 518, 523, 154, 104, 296],\n",
              "        [599, 140, 443, 487, 425, 302, 527],\n",
              "        [506, 401, 569, 165, 172, 286, 394]])"
            ]
          },
          "metadata": {},
          "execution_count": 51
        }
      ]
    },
    {
      "cell_type": "code",
      "source": [
        "# create a random from integer without duplicate\n",
        "torch.randperm(20) #get number from 0 to 20 - 1 (shuffle)\n"
      ],
      "metadata": {
        "colab": {
          "base_uri": "https://localhost:8080/"
        },
        "id": "ahrUghIQbCoK",
        "outputId": "60b4f156-5663-4034-8cf9-94d625bf33ab"
      },
      "execution_count": null,
      "outputs": [
        {
          "output_type": "execute_result",
          "data": {
            "text/plain": [
              "tensor([11, 16, 15, 14, 10,  5, 17, 13,  3,  4,  7,  6, 19,  8,  1, 18,  0,  2,\n",
              "        12,  9])"
            ]
          },
          "metadata": {},
          "execution_count": 55
        }
      ]
    },
    {
      "cell_type": "code",
      "source": [
        "# we can set a same rand with set a seed (just in this cell)\n",
        "torch.manual_seed(42)\n",
        "torch.randint(1,10,(5,))"
      ],
      "metadata": {
        "colab": {
          "base_uri": "https://localhost:8080/"
        },
        "id": "5yL6pyJpcAcy",
        "outputId": "381fe686-c01f-4111-b9f2-7f27c6747a37"
      },
      "execution_count": null,
      "outputs": [
        {
          "output_type": "execute_result",
          "data": {
            "text/plain": [
              "tensor([7, 6, 8, 5, 1])"
            ]
          },
          "metadata": {},
          "execution_count": 57
        }
      ]
    },
    {
      "cell_type": "markdown",
      "source": [
        "* indexing"
      ],
      "metadata": {
        "id": "cgVNtEppdS1j"
      }
    },
    {
      "cell_type": "code",
      "source": [
        "# Vector\n",
        "a = torch.rand(5)\n",
        "a\n"
      ],
      "metadata": {
        "colab": {
          "base_uri": "https://localhost:8080/"
        },
        "id": "Y5TnhCDCcrgL",
        "outputId": "505bf4e9-9f93-43f2-ced6-dc0cf98221f8"
      },
      "execution_count": null,
      "outputs": [
        {
          "output_type": "execute_result",
          "data": {
            "text/plain": [
              "tensor([0.4294, 0.8854, 0.5739, 0.2666, 0.6274])"
            ]
          },
          "metadata": {},
          "execution_count": 65
        }
      ]
    },
    {
      "cell_type": "code",
      "source": [
        "a[0] , a[3]"
      ],
      "metadata": {
        "colab": {
          "base_uri": "https://localhost:8080/"
        },
        "id": "MJ4Cx58JdftZ",
        "outputId": "85778ec3-6c27-4e45-8593-59f94a2aedb7"
      },
      "execution_count": null,
      "outputs": [
        {
          "output_type": "execute_result",
          "data": {
            "text/plain": [
              "(tensor(0.4294), tensor(0.2666))"
            ]
          },
          "metadata": {},
          "execution_count": 66
        }
      ]
    },
    {
      "cell_type": "code",
      "source": [
        "a[-1] , a[-2]"
      ],
      "metadata": {
        "colab": {
          "base_uri": "https://localhost:8080/"
        },
        "id": "6GJxTJ19d3-a",
        "outputId": "43c03e23-79e1-447e-89e8-f3ef45950f22"
      },
      "execution_count": null,
      "outputs": [
        {
          "output_type": "execute_result",
          "data": {
            "text/plain": [
              "(tensor(0.6274), tensor(0.2666))"
            ]
          },
          "metadata": {},
          "execution_count": 67
        }
      ]
    },
    {
      "cell_type": "code",
      "source": [
        "# matrix\n",
        "b = torch.rand((5,3))\n",
        "b"
      ],
      "metadata": {
        "colab": {
          "base_uri": "https://localhost:8080/"
        },
        "id": "LyiD2cHEeAOR",
        "outputId": "8d77cd40-4740-436e-f6e6-5310da4220cc"
      },
      "execution_count": null,
      "outputs": [
        {
          "output_type": "execute_result",
          "data": {
            "text/plain": [
              "tensor([[0.8090, 0.5779, 0.9040],\n",
              "        [0.5547, 0.3423, 0.6343],\n",
              "        [0.3644, 0.7104, 0.9464],\n",
              "        [0.7890, 0.2814, 0.7886],\n",
              "        [0.5895, 0.7539, 0.1952]])"
            ]
          },
          "metadata": {},
          "execution_count": 69
        }
      ]
    },
    {
      "cell_type": "code",
      "source": [
        "b[1][2]"
      ],
      "metadata": {
        "colab": {
          "base_uri": "https://localhost:8080/"
        },
        "id": "_QEWFn-PeP_h",
        "outputId": "65557475-6010-44a2-e4d7-db9a6b89af43"
      },
      "execution_count": null,
      "outputs": [
        {
          "output_type": "execute_result",
          "data": {
            "text/plain": [
              "tensor(0.6343)"
            ]
          },
          "metadata": {},
          "execution_count": 70
        }
      ]
    },
    {
      "cell_type": "code",
      "source": [
        "b[1]"
      ],
      "metadata": {
        "colab": {
          "base_uri": "https://localhost:8080/"
        },
        "id": "dOfN6cNkebny",
        "outputId": "a812b8c0-1779-42f4-acfa-4a01264af451"
      },
      "execution_count": null,
      "outputs": [
        {
          "output_type": "execute_result",
          "data": {
            "text/plain": [
              "tensor([0.5547, 0.3423, 0.6343])"
            ]
          },
          "metadata": {},
          "execution_count": 71
        }
      ]
    },
    {
      "cell_type": "code",
      "source": [
        "# Tensor\n",
        "c = torch.randint(100,(4,5,3))\n",
        "c"
      ],
      "metadata": {
        "colab": {
          "base_uri": "https://localhost:8080/"
        },
        "id": "fNzN8ZJrei0w",
        "outputId": "5ff65cee-2571-4548-9e3c-01fc7ad1b2b6"
      },
      "execution_count": null,
      "outputs": [
        {
          "output_type": "execute_result",
          "data": {
            "text/plain": [
              "tensor([[[76, 25, 10],\n",
              "         [46, 69, 42],\n",
              "         [54, 92, 70],\n",
              "         [ 2, 73, 13],\n",
              "         [31, 56, 94]],\n",
              "\n",
              "        [[26, 59, 94],\n",
              "         [68, 59, 72],\n",
              "         [95, 19, 49],\n",
              "         [36, 74, 70],\n",
              "         [28, 22, 34]],\n",
              "\n",
              "        [[40, 11, 60],\n",
              "         [ 7, 90, 18],\n",
              "         [78, 49, 71],\n",
              "         [93,  1,  4],\n",
              "         [21, 40, 88]],\n",
              "\n",
              "        [[25, 51,  7],\n",
              "         [39, 99, 95],\n",
              "         [ 9, 37, 90],\n",
              "         [63, 81, 66],\n",
              "         [43, 76,  2]]])"
            ]
          },
          "metadata": {},
          "execution_count": 74
        }
      ]
    },
    {
      "cell_type": "code",
      "source": [
        "c[0], c[0][1], c[0][1][2]"
      ],
      "metadata": {
        "colab": {
          "base_uri": "https://localhost:8080/"
        },
        "id": "7_1O69_re2KY",
        "outputId": "5fb3760d-9897-4310-c600-c56875a20aec"
      },
      "execution_count": null,
      "outputs": [
        {
          "output_type": "execute_result",
          "data": {
            "text/plain": [
              "(tensor([[76, 25, 10],\n",
              "         [46, 69, 42],\n",
              "         [54, 92, 70],\n",
              "         [ 2, 73, 13],\n",
              "         [31, 56, 94]]),\n",
              " tensor([46, 69, 42]),\n",
              " tensor(42))"
            ]
          },
          "metadata": {},
          "execution_count": 75
        }
      ]
    },
    {
      "cell_type": "markdown",
      "source": [
        "* Slicing in vector"
      ],
      "metadata": {
        "id": "N-AnSxY_fUQY"
      }
    },
    {
      "cell_type": "code",
      "source": [
        "a = torch.randint(10,(10,))\n",
        "a\n"
      ],
      "metadata": {
        "colab": {
          "base_uri": "https://localhost:8080/"
        },
        "id": "FMYA2jEbfYzZ",
        "outputId": "0387ae08-6205-4380-87df-8cd7d946bfef"
      },
      "execution_count": null,
      "outputs": [
        {
          "output_type": "execute_result",
          "data": {
            "text/plain": [
              "tensor([5, 8, 4, 2, 8, 3, 0, 5, 2, 4])"
            ]
          },
          "metadata": {},
          "execution_count": 76
        }
      ]
    },
    {
      "cell_type": "code",
      "source": [
        "a[4:8] # 4 is a close[] but 8 is open()"
      ],
      "metadata": {
        "colab": {
          "base_uri": "https://localhost:8080/"
        },
        "id": "hoeEEeZSficw",
        "outputId": "02e1f0c2-7ee6-47fd-9eaf-e8f0cde85cc8"
      },
      "execution_count": null,
      "outputs": [
        {
          "output_type": "execute_result",
          "data": {
            "text/plain": [
              "tensor([8, 3, 0, 5])"
            ]
          },
          "metadata": {},
          "execution_count": 77
        }
      ]
    },
    {
      "cell_type": "code",
      "source": [
        "a[-3:-1]"
      ],
      "metadata": {
        "colab": {
          "base_uri": "https://localhost:8080/"
        },
        "id": "am7_ssWVgbEY",
        "outputId": "9ac1eb7b-0b77-43ef-c7df-bbbb8c9d0222"
      },
      "execution_count": null,
      "outputs": [
        {
          "output_type": "execute_result",
          "data": {
            "text/plain": [
              "tensor([5, 2])"
            ]
          },
          "metadata": {},
          "execution_count": 79
        }
      ]
    },
    {
      "cell_type": "code",
      "source": [
        "a[2:]"
      ],
      "metadata": {
        "colab": {
          "base_uri": "https://localhost:8080/"
        },
        "id": "KrVlhT-KgnXh",
        "outputId": "ee4a1f6b-b75e-47ec-c696-8b7cc8a11b8d"
      },
      "execution_count": null,
      "outputs": [
        {
          "output_type": "execute_result",
          "data": {
            "text/plain": [
              "tensor([4, 2, 8, 3, 0, 5, 2, 4])"
            ]
          },
          "metadata": {},
          "execution_count": 80
        }
      ]
    },
    {
      "cell_type": "code",
      "source": [
        "a[:7]"
      ],
      "metadata": {
        "colab": {
          "base_uri": "https://localhost:8080/"
        },
        "id": "r2YO_zqAgqO4",
        "outputId": "9198fe0d-a8b3-4483-ad54-38e1067bbf7b"
      },
      "execution_count": null,
      "outputs": [
        {
          "output_type": "execute_result",
          "data": {
            "text/plain": [
              "tensor([5, 8, 4, 2, 8, 3, 0])"
            ]
          },
          "metadata": {},
          "execution_count": 81
        }
      ]
    },
    {
      "cell_type": "code",
      "source": [
        "# get a even item\n",
        "a[0:7:2]"
      ],
      "metadata": {
        "colab": {
          "base_uri": "https://localhost:8080/"
        },
        "id": "0iHj_jYpg84v",
        "outputId": "521c35e0-1e0e-4783-b6e8-dac34ead6ec4"
      },
      "execution_count": null,
      "outputs": [
        {
          "output_type": "execute_result",
          "data": {
            "text/plain": [
              "tensor([5, 4, 8, 0])"
            ]
          },
          "metadata": {},
          "execution_count": 82
        }
      ]
    },
    {
      "cell_type": "code",
      "source": [
        "# get all item with 3 Jump\n",
        "a[::3]"
      ],
      "metadata": {
        "colab": {
          "base_uri": "https://localhost:8080/"
        },
        "id": "J433pd_hhKF_",
        "outputId": "40a0dba3-4e27-474d-bcd2-1466075eadf9"
      },
      "execution_count": null,
      "outputs": [
        {
          "output_type": "execute_result",
          "data": {
            "text/plain": [
              "tensor([5, 2, 0, 4])"
            ]
          },
          "metadata": {},
          "execution_count": 84
        }
      ]
    },
    {
      "cell_type": "code",
      "source": [
        "# get a item with manualy select\n",
        "a[[0,2,7]]"
      ],
      "metadata": {
        "colab": {
          "base_uri": "https://localhost:8080/"
        },
        "id": "n7vWUd3JhrEX",
        "outputId": "ce62e9f6-a7b3-4587-92cc-bd30de77781f"
      },
      "execution_count": null,
      "outputs": [
        {
          "output_type": "execute_result",
          "data": {
            "text/plain": [
              "tensor([5, 4, 5])"
            ]
          },
          "metadata": {},
          "execution_count": 86
        }
      ]
    },
    {
      "cell_type": "markdown",
      "source": [
        "* Slicing in matrix"
      ],
      "metadata": {
        "id": "8InDuQbfiNe3"
      }
    },
    {
      "cell_type": "code",
      "source": [
        "b = torch.randint(10,(8,6))\n",
        "b"
      ],
      "metadata": {
        "colab": {
          "base_uri": "https://localhost:8080/"
        },
        "id": "AL4dnn8uiPTv",
        "outputId": "061f1fc5-35d4-4592-cf15-9f4b1c98b4f4"
      },
      "execution_count": null,
      "outputs": [
        {
          "output_type": "execute_result",
          "data": {
            "text/plain": [
              "tensor([[7, 3, 7, 7, 2, 5],\n",
              "        [4, 7, 2, 3, 7, 9],\n",
              "        [3, 0, 9, 2, 2, 6],\n",
              "        [2, 5, 0, 8, 4, 1],\n",
              "        [3, 5, 3, 0, 4, 7],\n",
              "        [6, 2, 2, 7, 1, 6],\n",
              "        [5, 1, 9, 3, 7, 6],\n",
              "        [5, 0, 8, 5, 8, 8]])"
            ]
          },
          "metadata": {},
          "execution_count": 89
        }
      ]
    },
    {
      "cell_type": "code",
      "source": [
        "b[1:5,1:2]"
      ],
      "metadata": {
        "colab": {
          "base_uri": "https://localhost:8080/"
        },
        "id": "JSPUMuc7iULO",
        "outputId": "4f085ed8-0e39-4fe1-a573-a8ea02945d70"
      },
      "execution_count": null,
      "outputs": [
        {
          "output_type": "execute_result",
          "data": {
            "text/plain": [
              "tensor([[7],\n",
              "        [0],\n",
              "        [5],\n",
              "        [5]])"
            ]
          },
          "metadata": {},
          "execution_count": 91
        }
      ]
    },
    {
      "cell_type": "code",
      "source": [
        "b[1:5,1:5:2]"
      ],
      "metadata": {
        "colab": {
          "base_uri": "https://localhost:8080/"
        },
        "id": "bW8uLpsRiw3H",
        "outputId": "612d1e6a-a51c-4ee7-d400-6086f448979d"
      },
      "execution_count": null,
      "outputs": [
        {
          "output_type": "execute_result",
          "data": {
            "text/plain": [
              "tensor([[7, 3],\n",
              "        [0, 2],\n",
              "        [5, 8],\n",
              "        [5, 0]])"
            ]
          },
          "metadata": {},
          "execution_count": 92
        }
      ]
    },
    {
      "cell_type": "code",
      "source": [
        "b[3:7]"
      ],
      "metadata": {
        "colab": {
          "base_uri": "https://localhost:8080/"
        },
        "id": "gLyzWB7bjc_O",
        "outputId": "367e81d6-8a56-42d6-84bc-6304bab9e4ff"
      },
      "execution_count": null,
      "outputs": [
        {
          "output_type": "execute_result",
          "data": {
            "text/plain": [
              "tensor([[2, 5, 0, 8, 4, 1],\n",
              "        [3, 5, 3, 0, 4, 7],\n",
              "        [6, 2, 2, 7, 1, 6],\n",
              "        [5, 1, 9, 3, 7, 6]])"
            ]
          },
          "metadata": {},
          "execution_count": 93
        }
      ]
    },
    {
      "cell_type": "markdown",
      "source": [
        "* Slicing in n-D tensor"
      ],
      "metadata": {
        "id": "AotPgix6jyxm"
      }
    },
    {
      "cell_type": "code",
      "source": [
        "c = torch.randint(100,(4,5,3))\n",
        "c"
      ],
      "metadata": {
        "colab": {
          "base_uri": "https://localhost:8080/"
        },
        "id": "GCUlH67pj7K2",
        "outputId": "1a249a49-d1e4-4fb9-e8e2-d8673fd9b2b4"
      },
      "execution_count": null,
      "outputs": [
        {
          "output_type": "execute_result",
          "data": {
            "text/plain": [
              "tensor([[[ 6, 81, 35],\n",
              "         [28, 51,  9],\n",
              "         [81, 41, 30],\n",
              "         [22, 99, 91],\n",
              "         [96, 20, 99]],\n",
              "\n",
              "        [[46, 85, 63],\n",
              "         [ 0, 78, 75],\n",
              "         [43, 94, 99],\n",
              "         [78, 93, 14],\n",
              "         [42, 54, 11]],\n",
              "\n",
              "        [[63, 42, 99],\n",
              "         [48, 76, 23],\n",
              "         [79, 94, 57],\n",
              "         [11, 36, 54],\n",
              "         [27,  8, 80]],\n",
              "\n",
              "        [[61, 54, 42],\n",
              "         [37, 41, 50],\n",
              "         [54, 15, 79],\n",
              "         [17, 11, 36],\n",
              "         [59, 31, 84]]])"
            ]
          },
          "metadata": {},
          "execution_count": 94
        }
      ]
    },
    {
      "cell_type": "code",
      "source": [
        "c[1:2,2:4,1:2]"
      ],
      "metadata": {
        "colab": {
          "base_uri": "https://localhost:8080/"
        },
        "id": "vxD_STT1j-fg",
        "outputId": "0c4e1c49-3035-4929-e9d7-016205181cf4"
      },
      "execution_count": null,
      "outputs": [
        {
          "output_type": "execute_result",
          "data": {
            "text/plain": [
              "tensor([[[94],\n",
              "         [93]]])"
            ]
          },
          "metadata": {},
          "execution_count": 96
        }
      ]
    },
    {
      "cell_type": "code",
      "source": [
        "# plus element by element with + or - or * or /\n",
        "a = torch.randint(10,(2,2))\n",
        "b = torch.randint(10,(2,2))\n",
        "\n",
        "a , b"
      ],
      "metadata": {
        "id": "ybDmSyz80xUZ",
        "colab": {
          "base_uri": "https://localhost:8080/"
        },
        "outputId": "61118103-2904-43f7-b8db-e0596d884ad2"
      },
      "execution_count": null,
      "outputs": [
        {
          "output_type": "execute_result",
          "data": {
            "text/plain": [
              "(tensor([[5, 7],\n",
              "         [3, 6]]),\n",
              " tensor([[3, 0],\n",
              "         [0, 6]]))"
            ]
          },
          "metadata": {},
          "execution_count": 5
        }
      ]
    },
    {
      "cell_type": "code",
      "source": [
        "a + b , a - b , a * b, a / b"
      ],
      "metadata": {
        "colab": {
          "base_uri": "https://localhost:8080/"
        },
        "id": "2Etp0I3B12ii",
        "outputId": "5f359144-277d-46d7-aba1-dec005dd4b7f"
      },
      "execution_count": null,
      "outputs": [
        {
          "output_type": "execute_result",
          "data": {
            "text/plain": [
              "(tensor([[ 8,  7],\n",
              "         [ 3, 12]]),\n",
              " tensor([[2, 7],\n",
              "         [3, 0]]),\n",
              " tensor([[15,  0],\n",
              "         [ 0, 36]]),\n",
              " tensor([[1.6667,    inf],\n",
              "         [   inf, 1.0000]]))"
            ]
          },
          "metadata": {},
          "execution_count": 10
        }
      ]
    },
    {
      "cell_type": "code",
      "source": [
        "torch.add(a,b)"
      ],
      "metadata": {
        "colab": {
          "base_uri": "https://localhost:8080/"
        },
        "id": "DnT1vito1-sI",
        "outputId": "eb16e7c1-09c8-42e4-f764-dd098eaa0bf4"
      },
      "execution_count": null,
      "outputs": [
        {
          "output_type": "execute_result",
          "data": {
            "text/plain": [
              "tensor([[ 8,  7],\n",
              "        [ 3, 12]])"
            ]
          },
          "metadata": {},
          "execution_count": 7
        }
      ]
    },
    {
      "cell_type": "code",
      "source": [
        "# infinity and pi\n",
        "torch.inf, torch.pi"
      ],
      "metadata": {
        "colab": {
          "base_uri": "https://localhost:8080/"
        },
        "id": "96giaU7B2eif",
        "outputId": "9ed39648-3646-4d2d-b747-c426fc913605"
      },
      "execution_count": null,
      "outputs": [
        {
          "output_type": "execute_result",
          "data": {
            "text/plain": [
              "(inf, 3.141592653589793)"
            ]
          },
          "metadata": {},
          "execution_count": 11
        }
      ]
    },
    {
      "cell_type": "code",
      "source": [
        "# matrix *\n",
        "torch.matmul(a,b) or # a @ b"
      ],
      "metadata": {
        "colab": {
          "base_uri": "https://localhost:8080/"
        },
        "id": "RAkSjc7o2r_q",
        "outputId": "aa2206c8-974a-4d81-ea3e-677ce6543f2e"
      },
      "execution_count": null,
      "outputs": [
        {
          "output_type": "execute_result",
          "data": {
            "text/plain": [
              "tensor([[15, 42],\n",
              "        [ 9, 36]])"
            ]
          },
          "metadata": {},
          "execution_count": 12
        }
      ]
    },
    {
      "cell_type": "code",
      "source": [
        "# sun a vector with scalar\n",
        "a = torch.randint(10,(2,3))\n",
        "a"
      ],
      "metadata": {
        "colab": {
          "base_uri": "https://localhost:8080/"
        },
        "id": "tB53rqF520MW",
        "outputId": "1a7f931b-876c-4aef-9209-88e7ac6a0f50"
      },
      "execution_count": null,
      "outputs": [
        {
          "output_type": "execute_result",
          "data": {
            "text/plain": [
              "tensor([[6, 6, 5],\n",
              "        [1, 2, 6]])"
            ]
          },
          "metadata": {},
          "execution_count": 15
        }
      ]
    },
    {
      "cell_type": "code",
      "source": [
        " a + 2"
      ],
      "metadata": {
        "id": "g4px54-F3sau",
        "outputId": "efa957c4-97f0-43ee-d4ec-6f25ac93491b",
        "colab": {
          "base_uri": "https://localhost:8080/"
        }
      },
      "execution_count": null,
      "outputs": [
        {
          "output_type": "execute_result",
          "data": {
            "text/plain": [
              "tensor([[8, 8, 7],\n",
              "        [3, 4, 8]])"
            ]
          },
          "metadata": {},
          "execution_count": 16
        }
      ]
    },
    {
      "cell_type": "code",
      "source": [
        "a = torch.randint(1,50,(2,6))\n"
      ],
      "metadata": {
        "id": "XIYSwXtpmAIS"
      },
      "execution_count": null,
      "outputs": []
    },
    {
      "cell_type": "code",
      "source": [
        "a"
      ],
      "metadata": {
        "colab": {
          "base_uri": "https://localhost:8080/"
        },
        "id": "jaVGn4epmWvP",
        "outputId": "6ff416c0-4104-4d64-eb9d-52549470cd0f"
      },
      "execution_count": null,
      "outputs": [
        {
          "output_type": "execute_result",
          "data": {
            "text/plain": [
              "tensor([[ 2, 35,  7, 20,  6,  3],\n",
              "        [44, 45, 23, 41, 41, 30]])"
            ]
          },
          "metadata": {},
          "execution_count": 5
        }
      ]
    },
    {
      "cell_type": "code",
      "source": [
        "b = torch.randint(1,50,(3,))"
      ],
      "metadata": {
        "id": "qeP19llFmYdz"
      },
      "execution_count": null,
      "outputs": []
    },
    {
      "cell_type": "code",
      "source": [
        "b"
      ],
      "metadata": {
        "colab": {
          "base_uri": "https://localhost:8080/"
        },
        "id": "NJzWOLVomk7Q",
        "outputId": "9b64875b-5bf0-478b-b084-925fa253349e"
      },
      "execution_count": null,
      "outputs": [
        {
          "output_type": "execute_result",
          "data": {
            "text/plain": [
              "tensor([ 9, 37, 28])"
            ]
          },
          "metadata": {},
          "execution_count": 8
        }
      ]
    },
    {
      "cell_type": "code",
      "source": [
        "# vonvert n * m matrix to m * n\n",
        "#  .view is faster then .rhshape\n",
        "a.view(2,3,2)\n"
      ],
      "metadata": {
        "colab": {
          "base_uri": "https://localhost:8080/"
        },
        "id": "CyzcXgJdmnxd",
        "outputId": "28236709-2472-4ffc-8708-2a6d3fd1b1df"
      },
      "execution_count": null,
      "outputs": [
        {
          "output_type": "execute_result",
          "data": {
            "text/plain": [
              "tensor([[[ 2, 35],\n",
              "         [ 7, 20],\n",
              "         [ 6,  3]],\n",
              "\n",
              "        [[44, 45],\n",
              "         [23, 41],\n",
              "         [41, 30]]])"
            ]
          },
          "metadata": {},
          "execution_count": 9
        }
      ]
    },
    {
      "cell_type": "code",
      "source": [
        "a.reshape(2,3,2)"
      ],
      "metadata": {
        "colab": {
          "base_uri": "https://localhost:8080/"
        },
        "id": "HLmKSBlDnC-f",
        "outputId": "a84a0845-3285-4d84-c1ce-69e118d97888"
      },
      "execution_count": null,
      "outputs": [
        {
          "output_type": "execute_result",
          "data": {
            "text/plain": [
              "tensor([[[ 2, 35],\n",
              "         [ 7, 20],\n",
              "         [ 6,  3]],\n",
              "\n",
              "        [[44, 45],\n",
              "         [23, 41],\n",
              "         [41, 30]]])"
            ]
          },
          "metadata": {},
          "execution_count": 10
        }
      ]
    },
    {
      "cell_type": "code",
      "source": [
        "# convert a n-D matrix to a vector\n",
        "a.view(-1) # or a.flatten()"
      ],
      "metadata": {
        "colab": {
          "base_uri": "https://localhost:8080/"
        },
        "id": "0FxQapv5nf6y",
        "outputId": "7e732614-904a-4e76-d85e-c82daf02850e"
      },
      "execution_count": null,
      "outputs": [
        {
          "output_type": "execute_result",
          "data": {
            "text/plain": [
              "tensor([ 2, 35,  7, 20,  6,  3, 44, 45, 23, 41, 41, 30])"
            ]
          },
          "metadata": {},
          "execution_count": 12
        }
      ]
    },
    {
      "cell_type": "code",
      "source": [
        "# repeat a tensor\n",
        "b.repeat(3) # repeat 3 times"
      ],
      "metadata": {
        "colab": {
          "base_uri": "https://localhost:8080/"
        },
        "id": "7qsjVt4WnyOC",
        "outputId": "48b59a0a-1708-4f11-cb8e-c81b855bb9a8"
      },
      "execution_count": null,
      "outputs": [
        {
          "output_type": "execute_result",
          "data": {
            "text/plain": [
              "tensor([ 9, 37, 28,  9, 37, 28,  9, 37, 28])"
            ]
          },
          "metadata": {},
          "execution_count": 14
        }
      ]
    },
    {
      "cell_type": "code",
      "source": [
        "a.repeat(2,3) # 2 repeat in row and 3 repeat in column"
      ],
      "metadata": {
        "colab": {
          "base_uri": "https://localhost:8080/"
        },
        "id": "uA9Jp6ggoFCq",
        "outputId": "3fbcaf27-c2e9-4b00-a4d6-3a573ac546da"
      },
      "execution_count": null,
      "outputs": [
        {
          "output_type": "execute_result",
          "data": {
            "text/plain": [
              "tensor([[ 2, 35,  7, 20,  6,  3,  2, 35,  7, 20,  6,  3,  2, 35,  7, 20,  6,  3],\n",
              "        [44, 45, 23, 41, 41, 30, 44, 45, 23, 41, 41, 30, 44, 45, 23, 41, 41, 30],\n",
              "        [ 2, 35,  7, 20,  6,  3,  2, 35,  7, 20,  6,  3,  2, 35,  7, 20,  6,  3],\n",
              "        [44, 45, 23, 41, 41, 30, 44, 45, 23, 41, 41, 30, 44, 45, 23, 41, 41, 30]])"
            ]
          },
          "metadata": {},
          "execution_count": 15
        }
      ]
    },
    {
      "cell_type": "code",
      "source": [
        "# concat a some matrix\n",
        "torch.cat((b,b),dim=0) # dim 0 concat by row and 1 concat by column"
      ],
      "metadata": {
        "colab": {
          "base_uri": "https://localhost:8080/"
        },
        "id": "Bc0XhORvoX6J",
        "outputId": "693b8db8-954c-413c-cd69-3a786633d66d"
      },
      "execution_count": null,
      "outputs": [
        {
          "output_type": "execute_result",
          "data": {
            "text/plain": [
              "tensor([ 9, 37, 28,  9, 37, 28])"
            ]
          },
          "metadata": {},
          "execution_count": 16
        }
      ]
    },
    {
      "cell_type": "code",
      "source": [
        "a , a.shape"
      ],
      "metadata": {
        "colab": {
          "base_uri": "https://localhost:8080/"
        },
        "id": "7Lk3qczspelo",
        "outputId": "8f632400-efa4-4ef6-b25c-e479f163cc66"
      },
      "execution_count": null,
      "outputs": [
        {
          "output_type": "execute_result",
          "data": {
            "text/plain": [
              "(tensor([[ 2, 35,  7, 20,  6,  3],\n",
              "         [44, 45, 23, 41, 41, 30]]),\n",
              " torch.Size([2, 6]))"
            ]
          },
          "metadata": {},
          "execution_count": 19
        }
      ]
    },
    {
      "cell_type": "code",
      "source": [
        "# add a Dimensional 1\n",
        "a.unsqueeze(1) , a.unsqueeze(1).shape"
      ],
      "metadata": {
        "colab": {
          "base_uri": "https://localhost:8080/"
        },
        "id": "xcPnBq7DpFIp",
        "outputId": "a20b6a73-b10f-4aeb-fff5-33c8d694bfab"
      },
      "execution_count": null,
      "outputs": [
        {
          "output_type": "execute_result",
          "data": {
            "text/plain": [
              "(tensor([[[ 2, 35,  7, 20,  6,  3]],\n",
              " \n",
              "         [[44, 45, 23, 41, 41, 30]]]),\n",
              " torch.Size([2, 1, 6]))"
            ]
          },
          "metadata": {},
          "execution_count": 22
        }
      ]
    },
    {
      "cell_type": "code",
      "source": [
        "# remove a Dimensional 1\n",
        "\n",
        "a.squeeze(1)"
      ],
      "metadata": {
        "colab": {
          "base_uri": "https://localhost:8080/"
        },
        "id": "6PnthDkYp_vI",
        "outputId": "df2e4c1b-d119-4874-8119-183f593984f3"
      },
      "execution_count": null,
      "outputs": [
        {
          "output_type": "execute_result",
          "data": {
            "text/plain": [
              "tensor([[ 2, 35,  7, 20,  6,  3],\n",
              "        [44, 45, 23, 41, 41, 30]])"
            ]
          },
          "metadata": {},
          "execution_count": 23
        }
      ]
    },
    {
      "cell_type": "code",
      "source": [
        "c = torch.randint(1,10,(5,5))\n",
        "c"
      ],
      "metadata": {
        "colab": {
          "base_uri": "https://localhost:8080/"
        },
        "id": "eQU7Xg9LqotA",
        "outputId": "9464590d-a71b-4553-e416-a3b51548457b"
      },
      "execution_count": null,
      "outputs": [
        {
          "output_type": "execute_result",
          "data": {
            "text/plain": [
              "tensor([[1, 5, 9, 4, 9],\n",
              "        [6, 4, 6, 5, 5],\n",
              "        [1, 2, 3, 7, 4],\n",
              "        [9, 7, 4, 5, 9],\n",
              "        [2, 5, 9, 4, 7]])"
            ]
          },
          "metadata": {},
          "execution_count": 31
        }
      ]
    },
    {
      "cell_type": "code",
      "source": [
        "torch.sum(c) # keepdim means hold Dimensional"
      ],
      "metadata": {
        "colab": {
          "base_uri": "https://localhost:8080/"
        },
        "id": "4Umrm5e1qxeQ",
        "outputId": "5c887c90-cc37-4934-e8f4-ee48f8f50996"
      },
      "execution_count": null,
      "outputs": [
        {
          "output_type": "execute_result",
          "data": {
            "text/plain": [
              "tensor(132)"
            ]
          },
          "metadata": {},
          "execution_count": 32
        }
      ]
    },
    {
      "cell_type": "code",
      "source": [
        "torch.sum(c,1) # sum row"
      ],
      "metadata": {
        "colab": {
          "base_uri": "https://localhost:8080/"
        },
        "id": "1u4IIIlHq1oI",
        "outputId": "4e37f1ef-be0b-4dfe-88fa-976c15a5b733"
      },
      "execution_count": null,
      "outputs": [
        {
          "output_type": "execute_result",
          "data": {
            "text/plain": [
              "tensor([28, 26, 17, 34, 27])"
            ]
          },
          "metadata": {},
          "execution_count": 33
        }
      ]
    },
    {
      "cell_type": "code",
      "source": [
        "torch.sum(c,0) # sum column"
      ],
      "metadata": {
        "colab": {
          "base_uri": "https://localhost:8080/"
        },
        "id": "kkhrVM36q5TB",
        "outputId": "12899703-7dce-4341-97e6-d668c79bcc28"
      },
      "execution_count": null,
      "outputs": [
        {
          "output_type": "execute_result",
          "data": {
            "text/plain": [
              "tensor([19, 23, 31, 25, 34])"
            ]
          },
          "metadata": {},
          "execution_count": 34
        }
      ]
    },
    {
      "cell_type": "code",
      "source": [
        "# sum Cumulative\n",
        "torch.cumsum(c,1)"
      ],
      "metadata": {
        "colab": {
          "base_uri": "https://localhost:8080/"
        },
        "id": "09ivrGYQryOv",
        "outputId": "91bd3b6d-5511-477c-bee4-7b607217c860"
      },
      "execution_count": null,
      "outputs": [
        {
          "output_type": "execute_result",
          "data": {
            "text/plain": [
              "tensor([[ 1,  6, 15, 19, 28],\n",
              "        [ 6, 10, 16, 21, 26],\n",
              "        [ 1,  3,  6, 13, 17],\n",
              "        [ 9, 16, 20, 25, 34],\n",
              "        [ 2,  7, 16, 20, 27]])"
            ]
          },
          "metadata": {},
          "execution_count": 36
        }
      ]
    },
    {
      "cell_type": "code",
      "source": [
        "torch.diff(c)"
      ],
      "metadata": {
        "colab": {
          "base_uri": "https://localhost:8080/"
        },
        "id": "4lp1Ku6LsDhv",
        "outputId": "585ee6a9-efac-47b8-ed9a-5501f55f1634"
      },
      "execution_count": null,
      "outputs": [
        {
          "output_type": "execute_result",
          "data": {
            "text/plain": [
              "tensor([[ 4,  4, -5,  5],\n",
              "        [-2,  2, -1,  0],\n",
              "        [ 1,  1,  4, -3],\n",
              "        [-2, -3,  1,  4],\n",
              "        [ 3,  4, -5,  3]])"
            ]
          },
          "metadata": {},
          "execution_count": 37
        }
      ]
    },
    {
      "cell_type": "code",
      "source": [
        "torch.prod(c)"
      ],
      "metadata": {
        "colab": {
          "base_uri": "https://localhost:8080/"
        },
        "id": "i2in4b5_sLGv",
        "outputId": "d06f06f9-5f3b-4164-d0f2-b6d5d634754b"
      },
      "execution_count": null,
      "outputs": [
        {
          "output_type": "execute_result",
          "data": {
            "text/plain": [
              "tensor(27998862796800000)"
            ]
          },
          "metadata": {},
          "execution_count": 38
        }
      ]
    },
    {
      "cell_type": "code",
      "source": [
        "torch.sqrt(c)"
      ],
      "metadata": {
        "colab": {
          "base_uri": "https://localhost:8080/"
        },
        "id": "8c0VUHmNsQNn",
        "outputId": "c00ba125-fce1-48be-d797-5c20fa88ffc1"
      },
      "execution_count": null,
      "outputs": [
        {
          "output_type": "execute_result",
          "data": {
            "text/plain": [
              "tensor([[1.0000, 2.2361, 3.0000, 2.0000, 3.0000],\n",
              "        [2.4495, 2.0000, 2.4495, 2.2361, 2.2361],\n",
              "        [1.0000, 1.4142, 1.7321, 2.6458, 2.0000],\n",
              "        [3.0000, 2.6458, 2.0000, 2.2361, 3.0000],\n",
              "        [1.4142, 2.2361, 3.0000, 2.0000, 2.6458]])"
            ]
          },
          "metadata": {},
          "execution_count": 39
        }
      ]
    },
    {
      "cell_type": "code",
      "source": [
        "torch.min(c)"
      ],
      "metadata": {
        "colab": {
          "base_uri": "https://localhost:8080/"
        },
        "id": "9Z2II-5PsYoQ",
        "outputId": "bab760c6-dd17-437b-8ee1-9300e5af9d76"
      },
      "execution_count": null,
      "outputs": [
        {
          "output_type": "execute_result",
          "data": {
            "text/plain": [
              "tensor(1)"
            ]
          },
          "metadata": {},
          "execution_count": 40
        }
      ]
    },
    {
      "cell_type": "code",
      "source": [
        "torch.max(c) , torch.max(c,dim=1)"
      ],
      "metadata": {
        "colab": {
          "base_uri": "https://localhost:8080/"
        },
        "id": "wvUOn7VOsa1H",
        "outputId": "bcf1860f-9425-473b-8853-62f37d535f96"
      },
      "execution_count": null,
      "outputs": [
        {
          "output_type": "execute_result",
          "data": {
            "text/plain": [
              "(tensor(9),\n",
              " torch.return_types.max(\n",
              " values=tensor([9, 6, 7, 9, 9]),\n",
              " indices=tensor([2, 0, 3, 0, 2])))"
            ]
          },
          "metadata": {},
          "execution_count": 42
        }
      ]
    },
    {
      "cell_type": "code",
      "source": [
        "torch.argmin(c)"
      ],
      "metadata": {
        "colab": {
          "base_uri": "https://localhost:8080/"
        },
        "id": "zYUGtP0RspX_",
        "outputId": "570d2a1b-5401-402d-9a73-f1ed4402ab9e"
      },
      "execution_count": null,
      "outputs": [
        {
          "output_type": "execute_result",
          "data": {
            "text/plain": [
              "tensor(0)"
            ]
          },
          "metadata": {},
          "execution_count": 43
        }
      ]
    },
    {
      "cell_type": "code",
      "source": [
        "torch.argmax(c)"
      ],
      "metadata": {
        "colab": {
          "base_uri": "https://localhost:8080/"
        },
        "id": "7WXw1vsNsurX",
        "outputId": "e1ac5186-34f1-451a-e4b2-d350cb871b73"
      },
      "execution_count": null,
      "outputs": [
        {
          "output_type": "execute_result",
          "data": {
            "text/plain": [
              "tensor(2)"
            ]
          },
          "metadata": {},
          "execution_count": 44
        }
      ]
    },
    {
      "cell_type": "code",
      "source": [
        "c"
      ],
      "metadata": {
        "colab": {
          "base_uri": "https://localhost:8080/"
        },
        "id": "rxVE1Ck_tFwY",
        "outputId": "a38e4826-ddad-41d0-d04e-7466a0cab2f1"
      },
      "execution_count": null,
      "outputs": [
        {
          "output_type": "execute_result",
          "data": {
            "text/plain": [
              "tensor([[1, 5, 9, 4, 9],\n",
              "        [6, 4, 6, 5, 5],\n",
              "        [1, 2, 3, 7, 4],\n",
              "        [9, 7, 4, 5, 9],\n",
              "        [2, 5, 9, 4, 7]])"
            ]
          },
          "metadata": {},
          "execution_count": 46
        }
      ]
    },
    {
      "cell_type": "code",
      "source": [
        "torch.topk(c,3)"
      ],
      "metadata": {
        "colab": {
          "base_uri": "https://localhost:8080/"
        },
        "id": "wUXn_1R6sz1f",
        "outputId": "626aa925-b9a7-42e9-dd9a-235d38c78b87"
      },
      "execution_count": null,
      "outputs": [
        {
          "output_type": "execute_result",
          "data": {
            "text/plain": [
              "torch.return_types.topk(\n",
              "values=tensor([[9, 9, 5],\n",
              "        [6, 6, 5],\n",
              "        [7, 4, 3],\n",
              "        [9, 9, 7],\n",
              "        [9, 7, 5]]),\n",
              "indices=tensor([[2, 4, 1],\n",
              "        [0, 2, 4],\n",
              "        [3, 4, 2],\n",
              "        [0, 4, 1],\n",
              "        [2, 4, 1]]))"
            ]
          },
          "metadata": {},
          "execution_count": 47
        }
      ]
    },
    {
      "cell_type": "code",
      "source": [
        "torch.topk(c,3,largest=False)"
      ],
      "metadata": {
        "colab": {
          "base_uri": "https://localhost:8080/"
        },
        "id": "qLhmuNQctN0v",
        "outputId": "740722fe-5635-415c-d100-5209c95b0c24"
      },
      "execution_count": null,
      "outputs": [
        {
          "output_type": "execute_result",
          "data": {
            "text/plain": [
              "torch.return_types.topk(\n",
              "values=tensor([[1, 4, 5],\n",
              "        [4, 5, 5],\n",
              "        [1, 2, 3],\n",
              "        [4, 5, 7],\n",
              "        [2, 4, 5]]),\n",
              "indices=tensor([[0, 3, 1],\n",
              "        [1, 4, 3],\n",
              "        [0, 1, 2],\n",
              "        [2, 3, 1],\n",
              "        [0, 3, 1]]))"
            ]
          },
          "metadata": {},
          "execution_count": 49
        }
      ]
    },
    {
      "cell_type": "code",
      "source": [
        "torch.mode(c)"
      ],
      "metadata": {
        "colab": {
          "base_uri": "https://localhost:8080/"
        },
        "id": "oQ86oSTitb9Q",
        "outputId": "8e617caf-c786-416e-e6b9-f621c808f6e0"
      },
      "execution_count": null,
      "outputs": [
        {
          "output_type": "execute_result",
          "data": {
            "text/plain": [
              "torch.return_types.mode(\n",
              "values=tensor([9, 5, 1, 9, 2]),\n",
              "indices=tensor([4, 4, 0, 4, 0]))"
            ]
          },
          "metadata": {},
          "execution_count": 50
        }
      ]
    },
    {
      "cell_type": "code",
      "source": [
        "c.sort()"
      ],
      "metadata": {
        "colab": {
          "base_uri": "https://localhost:8080/"
        },
        "id": "TLakyhj8tm53",
        "outputId": "754fe753-0704-4f38-eca1-68215691834f"
      },
      "execution_count": null,
      "outputs": [
        {
          "output_type": "execute_result",
          "data": {
            "text/plain": [
              "torch.return_types.sort(\n",
              "values=tensor([[1, 4, 5, 9, 9],\n",
              "        [4, 5, 5, 6, 6],\n",
              "        [1, 2, 3, 4, 7],\n",
              "        [4, 5, 7, 9, 9],\n",
              "        [2, 4, 5, 7, 9]]),\n",
              "indices=tensor([[0, 3, 1, 2, 4],\n",
              "        [1, 3, 4, 0, 2],\n",
              "        [0, 1, 2, 4, 3],\n",
              "        [2, 3, 1, 0, 4],\n",
              "        [0, 3, 1, 4, 2]]))"
            ]
          },
          "metadata": {},
          "execution_count": 51
        }
      ]
    },
    {
      "cell_type": "code",
      "source": [
        "a = torch.randperm(5)\n",
        "b = np.random.randint(0,5,(5))\n",
        "a, b"
      ],
      "metadata": {
        "colab": {
          "base_uri": "https://localhost:8080/"
        },
        "id": "KAqU3TlhtrfW",
        "outputId": "bff612aa-6d13-4111-9769-707629c5bf9a"
      },
      "execution_count": null,
      "outputs": [
        {
          "output_type": "execute_result",
          "data": {
            "text/plain": [
              "(tensor([3, 0, 2, 4, 1]), array([1, 3, 4, 3, 4]))"
            ]
          },
          "metadata": {},
          "execution_count": 54
        }
      ]
    },
    {
      "cell_type": "code",
      "source": [
        "# conver tensor to numpy\n",
        "a.numpy()"
      ],
      "metadata": {
        "colab": {
          "base_uri": "https://localhost:8080/"
        },
        "id": "BiHoYREpt6cG",
        "outputId": "6da1010a-1616-4eab-de9b-38cc470aedde"
      },
      "execution_count": null,
      "outputs": [
        {
          "output_type": "execute_result",
          "data": {
            "text/plain": [
              "array([3, 0, 2, 4, 1])"
            ]
          },
          "metadata": {},
          "execution_count": 55
        }
      ]
    },
    {
      "cell_type": "code",
      "source": [
        "# conver numpy to tensor\n",
        "torch.tensor(b,dtype=torch.float32)"
      ],
      "metadata": {
        "colab": {
          "base_uri": "https://localhost:8080/"
        },
        "id": "1ZuYCFyXuCR_",
        "outputId": "077b1a82-d11d-41f6-e8f6-c0a62c3086f7"
      },
      "execution_count": null,
      "outputs": [
        {
          "output_type": "execute_result",
          "data": {
            "text/plain": [
              "tensor([1., 3., 4., 3., 4.])"
            ]
          },
          "metadata": {},
          "execution_count": 56
        }
      ]
    },
    {
      "cell_type": "code",
      "source": [
        "# torch.save\n",
        "torch.save(a,'address/name.pt')\n"
      ],
      "metadata": {
        "id": "chPpHu7MuRZ-"
      },
      "execution_count": null,
      "outputs": []
    },
    {
      "cell_type": "code",
      "source": [
        "# torch.load\n",
        "torch.load('address/name.pt')"
      ],
      "metadata": {
        "id": "BEadT_w2uS-G"
      },
      "execution_count": null,
      "outputs": []
    }
  ]
}