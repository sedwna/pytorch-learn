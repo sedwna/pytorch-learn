{
  "nbformat": 4,
  "nbformat_minor": 0,
  "metadata": {
    "colab": {
      "provenance": [],
      "authorship_tag": "ABX9TyO9jZnTaPspVyzEO1ezp8+o",
      "include_colab_link": true
    },
    "kernelspec": {
      "name": "python3",
      "display_name": "Python 3"
    },
    "language_info": {
      "name": "python"
    }
  },
  "cells": [
    {
      "cell_type": "markdown",
      "metadata": {
        "id": "view-in-github",
        "colab_type": "text"
      },
      "source": [
        "<a href=\"https://colab.research.google.com/github/sedwna/pytorch-learn/blob/main/src/main_pytorch.ipynb\" target=\"_parent\"><img src=\"https://colab.research.google.com/assets/colab-badge.svg\" alt=\"Open In Colab\"/></a>"
      ]
    },
    {
      "cell_type": "code",
      "execution_count": 2,
      "metadata": {
        "id": "UWLwfuRIrifz"
      },
      "outputs": [],
      "source": [
        "import numpy as np\n",
        "import matplotlib.pyplot as plt\n",
        "import torch"
      ]
    },
    {
      "cell_type": "code",
      "source": [
        "torch.__version__"
      ],
      "metadata": {
        "colab": {
          "base_uri": "https://localhost:8080/",
          "height": 36
        },
        "id": "moZqD7ppsg3y",
        "outputId": "a56ddf0c-2e26-4c03-b0f3-61d3bf354f01"
      },
      "execution_count": 3,
      "outputs": [
        {
          "output_type": "execute_result",
          "data": {
            "text/plain": [
              "'2.5.1+cu124'"
            ],
            "application/vnd.google.colaboratory.intrinsic+json": {
              "type": "string"
            }
          },
          "metadata": {},
          "execution_count": 3
        }
      ]
    },
    {
      "cell_type": "code",
      "source": [
        "# create a Scaler\n",
        "torch.tensor(4) # tensor with 0D"
      ],
      "metadata": {
        "colab": {
          "base_uri": "https://localhost:8080/"
        },
        "id": "iVC-timgsxYy",
        "outputId": "27b92239-b94f-4079-fb42-b8c00abccf0d"
      },
      "execution_count": 4,
      "outputs": [
        {
          "output_type": "execute_result",
          "data": {
            "text/plain": [
              "tensor(4)"
            ]
          },
          "metadata": {},
          "execution_count": 4
        }
      ]
    },
    {
      "cell_type": "code",
      "source": [
        "#create a vector\n",
        "torch.tensor([1,2,3,4]) # tensor with 1D"
      ],
      "metadata": {
        "colab": {
          "base_uri": "https://localhost:8080/"
        },
        "id": "HJiRrwczs1rG",
        "outputId": "a06a0035-8f90-4545-bfd6-193894a0a582"
      },
      "execution_count": 7,
      "outputs": [
        {
          "output_type": "execute_result",
          "data": {
            "text/plain": [
              "tensor([1, 2, 3, 4])"
            ]
          },
          "metadata": {},
          "execution_count": 7
        }
      ]
    },
    {
      "cell_type": "code",
      "source": [
        "# create a matrix\n",
        "torch.tensor([[1,2,3], # tensor with 2D\n",
        "              [4,5,6],\n",
        "              [7,8,9]])"
      ],
      "metadata": {
        "colab": {
          "base_uri": "https://localhost:8080/"
        },
        "id": "xdAUDvT_uwz2",
        "outputId": "d35dfbeb-1026-43e8-dc10-e38fdeb2ac52"
      },
      "execution_count": 9,
      "outputs": [
        {
          "output_type": "execute_result",
          "data": {
            "text/plain": [
              "tensor([[1, 2, 3],\n",
              "        [4, 5, 6],\n",
              "        [7, 8, 9]])"
            ]
          },
          "metadata": {},
          "execution_count": 9
        }
      ]
    },
    {
      "cell_type": "code",
      "source": [
        "# create a column vector\n",
        "torch.tensor([[1], # tensor with 2D\n",
        "              [2],\n",
        "              [3]])"
      ],
      "metadata": {
        "colab": {
          "base_uri": "https://localhost:8080/"
        },
        "id": "fAls14U3vUQJ",
        "outputId": "e8c291be-755b-44ff-974d-00c4638eaa45"
      },
      "execution_count": 10,
      "outputs": [
        {
          "output_type": "execute_result",
          "data": {
            "text/plain": [
              "tensor([[1],\n",
              "        [2],\n",
              "        [3]])"
            ]
          },
          "metadata": {},
          "execution_count": 10
        }
      ]
    },
    {
      "cell_type": "code",
      "source": [
        "# create a N-D tensor\n",
        "torch.tensor([[[1,2],[3,4]],[[5,6],[7,8]],[[9,10],[11,12]]])"
      ],
      "metadata": {
        "colab": {
          "base_uri": "https://localhost:8080/"
        },
        "id": "UogQgUDgvmW-",
        "outputId": "522bce09-c68a-4fbb-add3-a2e41e329117"
      },
      "execution_count": 11,
      "outputs": [
        {
          "output_type": "execute_result",
          "data": {
            "text/plain": [
              "tensor([[[ 1,  2],\n",
              "         [ 3,  4]],\n",
              "\n",
              "        [[ 5,  6],\n",
              "         [ 7,  8]],\n",
              "\n",
              "        [[ 9, 10],\n",
              "         [11, 12]]])"
            ]
          },
          "metadata": {},
          "execution_count": 11
        }
      ]
    },
    {
      "cell_type": "code",
      "source": [
        "# dtype\n",
        "a = torch.tensor([1,2,3,4],dtype=torch.uint8) #uint8 = 8bit integer(unsigned) 0 - 255\n",
        "# defult torc.uint64 or torch.float32"
      ],
      "metadata": {
        "id": "9DJOubp4yU8-"
      },
      "execution_count": 9,
      "outputs": []
    },
    {
      "cell_type": "code",
      "source": [
        "# convert type\n",
        "a = a.type(torch.float16) #or a = a.float()\n",
        "a\n"
      ],
      "metadata": {
        "colab": {
          "base_uri": "https://localhost:8080/"
        },
        "id": "FIGWIwA9zexj",
        "outputId": "81459643-beca-4eaf-9472-206c831cfa4b"
      },
      "execution_count": 10,
      "outputs": [
        {
          "output_type": "execute_result",
          "data": {
            "text/plain": [
              "tensor([1., 2., 3., 4.], dtype=torch.float16)"
            ]
          },
          "metadata": {},
          "execution_count": 10
        }
      ]
    },
    {
      "cell_type": "code",
      "source": [
        "# device\n",
        "# how a tensor Run in GPU or CPU\n",
        "\n",
        "a = torch.tensor([1,2,3,4],dtype=torch.uint8,device='cpu')\n",
        "print(a.device) # a method for check a tensor run in wich mode(gpu or cpu)\n",
        "\n",
        "a = torch.tensor([1,2,3,4],dtype=torch.uint8,device='cuda')\n",
        "print(a.device)\n",
        "\n",
        "a = a.cpu() #or a = a.gpu() #switch from gpu to cpu or reverse\n"
      ],
      "metadata": {
        "colab": {
          "base_uri": "https://localhost:8080/"
        },
        "id": "Zb57MWEA0Ip4",
        "outputId": "39107faa-82b4-4f0f-d5ca-22afba1c2d3d"
      },
      "execution_count": 13,
      "outputs": [
        {
          "output_type": "stream",
          "name": "stdout",
          "text": [
            "cpu\n",
            "cuda:0\n"
          ]
        },
        {
          "output_type": "execute_result",
          "data": {
            "text/plain": [
              "tensor([1, 2, 3, 4], dtype=torch.uint8)"
            ]
          },
          "metadata": {},
          "execution_count": 13
        }
      ]
    },
    {
      "cell_type": "code",
      "source": [],
      "metadata": {
        "id": "VW8pE-bi3bFL"
      },
      "execution_count": null,
      "outputs": []
    }
  ]
}