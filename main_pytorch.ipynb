{
  "nbformat": 4,
  "nbformat_minor": 0,
  "metadata": {
    "colab": {
      "provenance": [],
      "authorship_tag": "ABX9TyNjL2Q4VFgtjCz/hZDiutvG",
      "include_colab_link": true
    },
    "kernelspec": {
      "name": "python3",
      "display_name": "Python 3"
    },
    "language_info": {
      "name": "python"
    }
  },
  "cells": [
    {
      "cell_type": "markdown",
      "metadata": {
        "id": "view-in-github",
        "colab_type": "text"
      },
      "source": [
        "<a href=\"https://colab.research.google.com/github/sedwna/pytorch-learn/blob/main/main_pytorch.ipynb\" target=\"_parent\"><img src=\"https://colab.research.google.com/assets/colab-badge.svg\" alt=\"Open In Colab\"/></a>"
      ]
    },
    {
      "cell_type": "code",
      "execution_count": null,
      "metadata": {
        "id": "UWLwfuRIrifz"
      },
      "outputs": [],
      "source": [
        "import numpy as np\n",
        "import matplotlib.pyplot as plt\n",
        "import torch"
      ]
    },
    {
      "cell_type": "code",
      "source": [
        "torch.__version__"
      ],
      "metadata": {
        "colab": {
          "base_uri": "https://localhost:8080/",
          "height": 36
        },
        "id": "moZqD7ppsg3y",
        "outputId": "a3cb4a8c-271b-4fc4-8924-fa513e781cab"
      },
      "execution_count": null,
      "outputs": [
        {
          "output_type": "execute_result",
          "data": {
            "text/plain": [
              "'2.5.1+cu124'"
            ],
            "application/vnd.google.colaboratory.intrinsic+json": {
              "type": "string"
            }
          },
          "metadata": {},
          "execution_count": 2
        }
      ]
    },
    {
      "cell_type": "code",
      "source": [
        "# create a Scalar\n",
        "torch.tensor(4) # tensor with 0D"
      ],
      "metadata": {
        "colab": {
          "base_uri": "https://localhost:8080/"
        },
        "id": "iVC-timgsxYy",
        "outputId": "febf3dd4-2b0e-4fc0-cd30-3376c095cdab"
      },
      "execution_count": null,
      "outputs": [
        {
          "output_type": "execute_result",
          "data": {
            "text/plain": [
              "tensor(4)"
            ]
          },
          "metadata": {},
          "execution_count": 3
        }
      ]
    },
    {
      "cell_type": "code",
      "source": [
        "#create a vector\n",
        "torch.tensor([1,2,3,4]) # tensor with 1D"
      ],
      "metadata": {
        "colab": {
          "base_uri": "https://localhost:8080/"
        },
        "id": "HJiRrwczs1rG",
        "outputId": "77f53ebd-0160-40e4-c1c5-d60cef382e2b"
      },
      "execution_count": null,
      "outputs": [
        {
          "output_type": "execute_result",
          "data": {
            "text/plain": [
              "tensor([1, 2, 3, 4])"
            ]
          },
          "metadata": {},
          "execution_count": 4
        }
      ]
    },
    {
      "cell_type": "code",
      "source": [
        "# create a matrix\n",
        "torch.tensor([[1,2,3], # tensor with 2D\n",
        "              [4,5,6],\n",
        "              [7,8,9]])"
      ],
      "metadata": {
        "colab": {
          "base_uri": "https://localhost:8080/"
        },
        "id": "xdAUDvT_uwz2",
        "outputId": "8226f039-96b7-459c-dd04-fa964c673b69"
      },
      "execution_count": null,
      "outputs": [
        {
          "output_type": "execute_result",
          "data": {
            "text/plain": [
              "tensor([[1, 2, 3],\n",
              "        [4, 5, 6],\n",
              "        [7, 8, 9]])"
            ]
          },
          "metadata": {},
          "execution_count": 5
        }
      ]
    },
    {
      "cell_type": "code",
      "source": [
        "# create a column vector\n",
        "torch.tensor([[1], # tensor with 2D\n",
        "              [2],\n",
        "              [3]])"
      ],
      "metadata": {
        "colab": {
          "base_uri": "https://localhost:8080/"
        },
        "id": "fAls14U3vUQJ",
        "outputId": "b049592c-ae86-4c7e-88dc-c7a09ce0929c"
      },
      "execution_count": null,
      "outputs": [
        {
          "output_type": "execute_result",
          "data": {
            "text/plain": [
              "tensor([[1],\n",
              "        [2],\n",
              "        [3]])"
            ]
          },
          "metadata": {},
          "execution_count": 6
        }
      ]
    },
    {
      "cell_type": "code",
      "source": [
        "# create a N-D tensor\n",
        "torch.tensor([[[1,2],[3,4]],[[5,6],[7,8]],[[9,10],[11,12]]])"
      ],
      "metadata": {
        "colab": {
          "base_uri": "https://localhost:8080/"
        },
        "id": "UogQgUDgvmW-",
        "outputId": "e3b952f2-6dc7-490f-e48c-27a20b7a634e"
      },
      "execution_count": null,
      "outputs": [
        {
          "output_type": "execute_result",
          "data": {
            "text/plain": [
              "tensor([[[ 1,  2],\n",
              "         [ 3,  4]],\n",
              "\n",
              "        [[ 5,  6],\n",
              "         [ 7,  8]],\n",
              "\n",
              "        [[ 9, 10],\n",
              "         [11, 12]]])"
            ]
          },
          "metadata": {},
          "execution_count": 7
        }
      ]
    },
    {
      "cell_type": "code",
      "source": [
        "# dtype\n",
        "a = torch.tensor([1,2,3,4],dtype=torch.uint8) #uint8 = 8bit integer(unsigned) 0 - 255\n",
        "# defult torc.uint64 or torch.float32"
      ],
      "metadata": {
        "id": "9DJOubp4yU8-"
      },
      "execution_count": null,
      "outputs": []
    },
    {
      "cell_type": "code",
      "source": [
        "# convert type\n",
        "a = a.type(torch.float16) #or a = a.float()\n",
        "a\n"
      ],
      "metadata": {
        "colab": {
          "base_uri": "https://localhost:8080/"
        },
        "id": "FIGWIwA9zexj",
        "outputId": "90960c52-6fc6-4b3e-e7d0-370885fe8543"
      },
      "execution_count": null,
      "outputs": [
        {
          "output_type": "execute_result",
          "data": {
            "text/plain": [
              "tensor([1., 2., 3., 4.], dtype=torch.float16)"
            ]
          },
          "metadata": {},
          "execution_count": 9
        }
      ]
    },
    {
      "cell_type": "code",
      "source": [
        "# device\n",
        "# how a tensor Run in GPU or CPU\n",
        "\n",
        "a = torch.tensor([1,2,3,4],dtype=torch.uint8,device='cpu')\n",
        "print(a.device) # a method for check a tensor run in wich mode(gpu or cpu)\n",
        "\n",
        "# a = torch.tensor([1,2,3,4],dtype=torch.uint8,device='cuda')\n",
        "print(a.device)\n",
        "\n",
        "a = a.cpu() #or a = a.gpu() #switch from gpu to cpu or reverse\n"
      ],
      "metadata": {
        "colab": {
          "base_uri": "https://localhost:8080/"
        },
        "id": "Zb57MWEA0Ip4",
        "outputId": "e2e4c2d0-88a5-4080-cdbb-b13f508187c0"
      },
      "execution_count": null,
      "outputs": [
        {
          "output_type": "stream",
          "name": "stdout",
          "text": [
            "cpu\n",
            "cpu\n"
          ]
        }
      ]
    },
    {
      "cell_type": "code",
      "source": [
        "scalar = torch.tensor(1)\n",
        "\n",
        "vector = torch.tensor([1,2,3,4])\n",
        "\n",
        "matrix = torch.tensor([[1,2],\n",
        "                       [1,2],\n",
        "                       [1,3]])\n",
        "\n",
        "tensor = torch.tensor([[[1,2,3],\n",
        "                        [1,2,3]],\n",
        "                                [[1,2,3],\n",
        "                                 [1,0,3]],\n",
        "                                        [[1,2,3],\n",
        "                                         [1,2,7]]])"
      ],
      "metadata": {
        "id": "5QujHXA8Di7G"
      },
      "execution_count": null,
      "outputs": []
    },
    {
      "cell_type": "code",
      "source": [
        "scalar.shape, vector.shape, matrix.shape, tensor.shape"
      ],
      "metadata": {
        "colab": {
          "base_uri": "https://localhost:8080/"
        },
        "id": "VW8pE-bi3bFL",
        "outputId": "83a0ea00-58c1-43c0-f129-dfc90ddc66bc"
      },
      "execution_count": null,
      "outputs": [
        {
          "output_type": "execute_result",
          "data": {
            "text/plain": [
              "(torch.Size([]), torch.Size([4]), torch.Size([2, 2]), torch.Size([3, 2, 3]))"
            ]
          },
          "metadata": {},
          "execution_count": 18
        }
      ]
    },
    {
      "cell_type": "code",
      "source": [
        "c, r, cc = tensor.shape\n",
        "c, r, cc"
      ],
      "metadata": {
        "colab": {
          "base_uri": "https://localhost:8080/"
        },
        "id": "RDxAvvMnE6ey",
        "outputId": "818949bc-bf31-42bb-9239-afed4a64048b"
      },
      "execution_count": null,
      "outputs": [
        {
          "output_type": "execute_result",
          "data": {
            "text/plain": [
              "(3, 2, 3)"
            ]
          },
          "metadata": {},
          "execution_count": 20
        }
      ]
    },
    {
      "cell_type": "code",
      "source": [
        "tensor.size() , tensor.size(0)"
      ],
      "metadata": {
        "colab": {
          "base_uri": "https://localhost:8080/"
        },
        "id": "peMzePaGFrhs",
        "outputId": "54d0509d-f25b-4401-e582-afec9816fb57"
      },
      "execution_count": null,
      "outputs": [
        {
          "output_type": "execute_result",
          "data": {
            "text/plain": [
              "(torch.Size([3, 2, 3]), 3)"
            ]
          },
          "metadata": {},
          "execution_count": 22
        }
      ]
    },
    {
      "cell_type": "code",
      "source": [
        "tensor.min(), tensor.max()"
      ],
      "metadata": {
        "colab": {
          "base_uri": "https://localhost:8080/"
        },
        "id": "ZHiHewAVF3bT",
        "outputId": "e466bf77-c474-4327-b884-5f6165f4b8c7"
      },
      "execution_count": null,
      "outputs": [
        {
          "output_type": "execute_result",
          "data": {
            "text/plain": [
              "(tensor(0), tensor(7))"
            ]
          },
          "metadata": {},
          "execution_count": 25
        }
      ]
    },
    {
      "cell_type": "code",
      "source": [
        "# we cant get a mean for int64\n",
        "tensor.float().mean() ,tensor.float().std()"
      ],
      "metadata": {
        "colab": {
          "base_uri": "https://localhost:8080/"
        },
        "id": "lGvT55mDGEc0",
        "outputId": "6a5bc511-42ea-426f-dd01-5e2c915a5927"
      },
      "execution_count": null,
      "outputs": [
        {
          "output_type": "execute_result",
          "data": {
            "text/plain": [
              "(tensor(2.1111), tensor(1.5297))"
            ]
          },
          "metadata": {},
          "execution_count": 30
        }
      ]
    },
    {
      "cell_type": "code",
      "source": [
        "# transpose = rotate 90 degree right\n",
        "matrix.t()"
      ],
      "metadata": {
        "colab": {
          "base_uri": "https://localhost:8080/"
        },
        "id": "Gfk0TEzmHAMk",
        "outputId": "a1094362-b10b-4f95-96fb-4de1a8e964ec"
      },
      "execution_count": null,
      "outputs": [
        {
          "output_type": "execute_result",
          "data": {
            "text/plain": [
              "tensor([[1, 1, 1],\n",
              "        [2, 2, 3]])"
            ]
          },
          "metadata": {},
          "execution_count": 33
        }
      ]
    },
    {
      "cell_type": "code",
      "source": [
        "# Difference with _ and empty\n",
        "scalar = torch.tensor(-1)\n",
        "\n",
        "print(scalar.abs())\n",
        "print(scalar)\n",
        "\n",
        "print(scalar.abs_())\n",
        "print(scalar)"
      ],
      "metadata": {
        "colab": {
          "base_uri": "https://localhost:8080/"
        },
        "id": "aWbwZdETHu2C",
        "outputId": "7d7c108b-fdda-4b7a-dfc0-77a94a3523f3"
      },
      "execution_count": 36,
      "outputs": [
        {
          "output_type": "stream",
          "name": "stdout",
          "text": [
            "tensor(1)\n",
            "tensor(-1)\n",
            "tensor(1)\n",
            "tensor(1)\n"
          ]
        }
      ]
    }
  ]
}